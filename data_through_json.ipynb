{
 "cells": [
  {
   "cell_type": "code",
   "execution_count": 1,
   "metadata": {
    "collapsed": true
   },
   "outputs": [],
   "source": [
    "import torch\n",
    "import json\n",
    "from torch.utils.data import DataLoader"
   ]
  },
  {
   "cell_type": "code",
   "execution_count": 2,
   "metadata": {
    "collapsed": true
   },
   "outputs": [],
   "source": [
    "def data_generator(filepath):\n",
    "        with open(filepath, 'r') as f:\n",
    "            for line in f:\n",
    "                yield json.loads(line)"
   ]
  },
  {
   "cell_type": "code",
   "execution_count": 3,
   "metadata": {
    "collapsed": true
   },
   "outputs": [],
   "source": [
    "file_path = '/home/shaurya/title_recommender/data/processed/combined_dataset_one_role.json'"
   ]
  },
  {
   "cell_type": "code",
   "execution_count": 4,
   "metadata": {
    "collapsed": true
   },
   "outputs": [],
   "source": [
    "a = data_generator(file_path)"
   ]
  },
  {
   "cell_type": "code",
   "execution_count": 5,
   "metadata": {},
   "outputs": [
    {
     "data": {
      "text/plain": [
       "{u'jd': u'networking in local chamber of commerce   managed social media sites   oversaw drip marketing campaign   coordinated employee volunteer program   managed sales opportunities         employee event planner          board member on events committee for                               non-profit michelles place',\n",
       " u'role': u'sales marketing coordinator'}"
      ]
     },
     "execution_count": 5,
     "metadata": {},
     "output_type": "execute_result"
    }
   ],
   "source": [
    "a.next()"
   ]
  },
  {
   "cell_type": "code",
   "execution_count": 6,
   "metadata": {
    "collapsed": true
   },
   "outputs": [],
   "source": [
    "class CustomDataset():\n",
    "    \n",
    "    def __init__(self):\n",
    "        file_path = '/home/shaurya/title_recommender/data/processed/combined_dataset_one_role.json'\n",
    "        self.gen = data_generator(file_path)\n",
    "        pass\n",
    "    \n",
    "    def __getitem__(self, index):\n",
    "        print \"=======\"\n",
    "        print index\n",
    "        print \"========\"\n",
    "        text = self.gen.next()\n",
    "        return text\n",
    "        pass\n",
    "    def __len__(self):\n",
    "        \n",
    "        return 1244811"
   ]
  },
  {
   "cell_type": "code",
   "execution_count": 7,
   "metadata": {
    "collapsed": true
   },
   "outputs": [],
   "source": [
    "d = CustomDataset()"
   ]
  },
  {
   "cell_type": "code",
   "execution_count": 8,
   "metadata": {
    "collapsed": true
   },
   "outputs": [],
   "source": [
    "train_loader = DataLoader(d,\n",
    "                          batch_size=2,\n",
    "                          shuffle=False\n",
    "                         )"
   ]
  },
  {
   "cell_type": "code",
   "execution_count": 9,
   "metadata": {},
   "outputs": [
    {
     "name": "stdout",
     "output_type": "stream",
     "text": [
      "=======\n",
      "0\n",
      "========\n",
      "=======\n",
      "1\n",
      "========\n",
      "0\n",
      "-------\n",
      "{u'jd': [u'networking in local chamber of commerce   managed social media sites   oversaw drip marketing campaign   coordinated employee volunteer program   managed sales opportunities         employee event planner          board member on events committee for                               non-profit michelles place', u'direct employees and oversee daily operations  place weekly supply orders with multiple vendors  perform monthly inventory  hire and fire employees  train employees  provide excellent customer service  balance out cash drawer daily'], u'role': [u'sales marketing coordinator', u'manager']}\n",
      "=======\n",
      "2\n",
      "========\n",
      "=======\n",
      "3\n",
      "========\n",
      "1\n",
      "-------\n",
      "{u'jd': [u'provided excellent customer service  operated cash register  prepared food for customers  performed daily chores', u'managed and identified newer opportunities for corporate agreements and partnerships in real estate and lending through doriss existing business relationships throughout the bay area and california  developed and increased companys production from $10m to $20m per month with doriss contributions  helped redefined revamp company image brand within the real estate and lending community within the bay area and california o created drip marketing campaigns and content with doriss success stories, including media videos through crm & constant contact o developed webinar trainings & educational seminars o created landing page verbiage and content for company website o planned & hosted company and community events  helped various departments and team members within the company to achieve companys vision and goals for growth expansion and profits  created infrastructure systems, such as salesforce (crm) and implemented processes efficiencies, which increased workforce productivity for the company as a whole  interview, hire, and train new team members'], u'role': [u'cashier', u'private lending account and sales manager your trusted private lending team']}\n",
      "=======\n",
      "4\n",
      "========\n",
      "=======\n",
      "5\n",
      "========\n",
      "2\n",
      "-------\n",
      "{u'jd': [u'* sourced new business via calls, community relations and referrals * maintained customer relationships * developed an understanding of estate appraisals, title reports, and real estate transactions * responsible for informing prospective and existing customers of wells fargo home mortgage programs, rates, policies, underwriting requirements, and loan procedures * reviewed detailed financial and credit data to match customer needs with an appropriate loan program and evaluated risk * receive customer applications, quoted the rates and points, and completed follow-up activities with the clients * marketing to realtors and clients through drip marketing, social media and community events * pipeline management * administrative support * financial planning', u\"* possess an in-depth knowledge about products, systems, and procedures * s.a.f.e. certified with the nationwide mortgage licensing system * ability to exhibit high levels of professionalism at all times * recommend products and services to meet customers' needs * portfolio management * received sales payout for exceeding sales goals every quarter * invited to attend several recognition events due to sales and service * business advocate & wells fargo at work expert\"], u'role': [u'mortgage consultant', u'personal banker']}\n"
     ]
    }
   ],
   "source": [
    "for batch_idx, text_ in enumerate(train_loader):\n",
    "    print batch_idx\n",
    "    print '-------'\n",
    "    print text_\n",
    "    if batch_idx==2:\n",
    "        break"
   ]
  },
  {
   "cell_type": "code",
   "execution_count": 10,
   "metadata": {
    "collapsed": true
   },
   "outputs": [],
   "source": [
    "train_loader = DataLoader(d,\n",
    "                          batch_size=1,\n",
    "                          shuffle=False\n",
    "                         )"
   ]
  },
  {
   "cell_type": "code",
   "execution_count": 11,
   "metadata": {},
   "outputs": [
    {
     "name": "stdout",
     "output_type": "stream",
     "text": [
      "=======\n",
      "0\n",
      "========\n",
      "0\n",
      "-------\n",
      "{u'jd': [u\"customer service and sales representative * recommend products and services to meet customers' needs * received sales payout for exceeding sales goals every quarter * trained on both teller and personal banker policy and procedures * cash handling  microsoft word, excel, outlook, outlook calendar, and adept at internet usage. comfortable with computer, windows based programs of all kinds. adept at multi-line phone systems and cash register. typing speed of 50-60 wpm. ability to train and coach new employees.  bryan mcgruder   sarah gundlach   former store manager   former service manager   530.520.8038   209.596.6084 nicolas moszoro former manager   530.320.5386\"], u'role': [u'officer management']}\n",
      "=======\n",
      "1\n",
      "========\n",
      "1\n",
      "-------\n",
      "{u'jd': [u\"helping pre-seed and pre-series a start-ups in new and emerging technologies think about marketing organically. organic because the story of your product or service needs to be simple, original, compelling, and 'noise free.' right from the glorious marketing strategy(segmenting, targeting, positioning, value prop, messaging and main advantages) to the not-so-glorious execution services through effective programs webcasts events and impactful content, we cover the whole gamut for you by laying the foundation from first principles.  event strategy, messaging and management.  website content creation and management using advanced cms tools such as wordpress, drupal, joomla, squarespace, wix, weebly, and dudamobile.  product messaging and sales enablement.  marketing automation and demand generation expertise to implement drip marketing campaign programs with lead scoring, advanced analytics in marketo pardot, eloqua, etc.  customer success story, blogs, and investor presentations.  brand strategy and market positioning.\"], u'role': [u'founder and principal']}\n",
      "=======\n",
      "2\n",
      "========\n",
      "2\n",
      "-------\n",
      "{u'jd': [u'nirmata is a cloud platform that fully automates application lifecycle management on any public or private cloud. it provides complete comprehensive policy-based automation for deploying, operating, and optimizing containerized applications across clouds, via easy-to-use, intuitive interfaces.  brand strategy, analyst relations, market positioning, product-market fit strategy and product messaging.  demand generation strategy and growth marketing to bring seed traction.  event strategy, messaging and management with social media and other distribution channels.'], u'role': [u'head of marketing']}\n",
      "=======\n",
      "3\n",
      "========\n",
      "3\n",
      "-------\n",
      "{u'jd': [u'displayten designs turn key solutions to simplify collaboration for next generation workplaces.  strategic marketing relationships with channel, partners, and analysts.  marketing internship programs.  lead management program by bringing marketing automation into action.  event and program management strategy for event readiness  digital marketing strategy to see a consistent inflow of traffic through seo, sem efforts resulting in the growth of traffic by over 10% month over month'], u'role': [u'head of marketing']}\n",
      "=======\n",
      "4\n",
      "========\n",
      "4\n",
      "-------\n",
      "{u'jd': [u'ezdia offers content creation and enrichment solutions to enterprises with a specific focus on e-commerce content like buying guides, category pages, rich product descriptions, blogs, knowledge centers and moderation of user generated content.  lead generation process through digital marketing initiatives primarily driven by drip campaigns in pardot  inside sales team initiation to bring in marketing qualified leads meetings for field sales.  overall event management process as a lead generation engine.  product positioning and messaging of ezdia and its platform, crewmachine.'], u'role': [u'director head of marketing']}\n",
      "=======\n",
      "5\n",
      "========\n",
      "5\n",
      "-------\n",
      "{u'jd': [u'infostretch offers enterprise mobility services by driving innovation in mobile solutions  brand positioning and go-to-market strategy  event strategy and messaging  content marketing and campaign management'], u'role': [u'senior marketing manager']}\n"
     ]
    }
   ],
   "source": [
    "for batch_idx, text_ in enumerate(train_loader):\n",
    "    print batch_idx\n",
    "    print '-------'\n",
    "    print text_\n",
    "    if batch_idx==5:\n",
    "        break"
   ]
  },
  {
   "cell_type": "code",
   "execution_count": null,
   "metadata": {
    "collapsed": true
   },
   "outputs": [],
   "source": []
  },
  {
   "cell_type": "code",
   "execution_count": null,
   "metadata": {
    "collapsed": true
   },
   "outputs": [],
   "source": [
    "\n",
    "# You can then use the prebuilt data loader. \n",
    "custom_dataset = CustomDataset()\n",
    "train_loader = torch.utils.data.DataLoader(dataset=custom_dataset,\n",
    "                                           batch_size=64, \n",
    "                                           shuffle=True)\n"
   ]
  }
 ],
 "metadata": {
  "kernelspec": {
   "display_name": "Python 2",
   "language": "python",
   "name": "python2"
  },
  "language_info": {
   "codemirror_mode": {
    "name": "ipython",
    "version": 2
   },
   "file_extension": ".py",
   "mimetype": "text/x-python",
   "name": "python",
   "nbconvert_exporter": "python",
   "pygments_lexer": "ipython2",
   "version": "2.7.14"
  }
 },
 "nbformat": 4,
 "nbformat_minor": 2
}
