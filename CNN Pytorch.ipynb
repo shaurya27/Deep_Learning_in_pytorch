{
 "cells": [
  {
   "cell_type": "code",
   "execution_count": 93,
   "metadata": {
    "collapsed": true
   },
   "outputs": [],
   "source": [
    "import numpy as np\n",
    "import pandas as pd\n",
    "import matplotlib.pyplot as plt\n",
    "%matplotlib inline\n",
    "import torch\n",
    "import torch.nn as nn\n",
    "from torch.utils.data import DataLoader\n",
    "from torch.autograd import Variable\n",
    "import torchvision.transforms as transforms"
   ]
  },
  {
   "cell_type": "code",
   "execution_count": 94,
   "metadata": {
    "collapsed": true
   },
   "outputs": [],
   "source": [
    "# transforms to apply to the data\n",
    "trans = transforms.Compose([transforms.ToTensor(), transforms.Normalize((0.1307,), (0.3081,))])"
   ]
  },
  {
   "cell_type": "code",
   "execution_count": 95,
   "metadata": {},
   "outputs": [],
   "source": [
    "class CustomDataset():\n",
    "    \n",
    "    def __init__(self,filepath,transform=None):\n",
    "        self.data = pd.read_csv(filepath)\n",
    "        self.images = np.array(self.data.iloc[:,1:]).reshape((-1,1,28,28))/255.\n",
    "        self.labels = np.array(self.data.iloc[:,0])\n",
    "        self.transform = transform\n",
    "        \n",
    "    def __getitem__(self,index):\n",
    "        image = self.images[index]\n",
    "        #print image.shape\n",
    "        label = self.labels[index]\n",
    "        if self.transform:\n",
    "            image = self.transform(image)\n",
    "        return image,label\n",
    "        \n",
    "    def __len__(self):\n",
    "        return (self.data.shape[0])"
   ]
  },
  {
   "cell_type": "code",
   "execution_count": 96,
   "metadata": {},
   "outputs": [
    {
     "name": "stdout",
     "output_type": "stream",
     "text": [
      "(1, 28, 28)\n"
     ]
    }
   ],
   "source": [
    "img, lab = CustomDataset('./mnist_fashion/train_dataset.csv',transform =None).__getitem__(0)\n",
    "print (img.shape)"
   ]
  },
  {
   "cell_type": "code",
   "execution_count": 97,
   "metadata": {},
   "outputs": [],
   "source": [
    "train_loader = DataLoader(CustomDataset('./mnist_fashion/train_dataset.csv',transform = None),\n",
    "                         batch_size=64,\n",
    "                         shuffle=True)\n",
    "valid_loader = DataLoader(CustomDataset('./mnist_fashion/valid_dataset.csv',transform = None),\n",
    "                         batch_size=64,\n",
    "                         shuffle=True)\n",
    "\n",
    "test_loader = DataLoader(CustomDataset('./mnist_fashion/fashion-mnist_test.csv',transform = None),\n",
    "                         batch_size=64,\n",
    "                         shuffle=True)"
   ]
  },
  {
   "cell_type": "code",
   "execution_count": 98,
   "metadata": {},
   "outputs": [
    {
     "name": "stdout",
     "output_type": "stream",
     "text": [
      "torch.Size([64, 1, 28, 28])\n"
     ]
    }
   ],
   "source": [
    "for i,j in train_loader:\n",
    "    print i.shape\n",
    "    break"
   ]
  },
  {
   "cell_type": "code",
   "execution_count": 99,
   "metadata": {},
   "outputs": [
    {
     "data": {
      "text/plain": [
       "(48000, 1, 28, 28)"
      ]
     },
     "execution_count": 99,
     "metadata": {},
     "output_type": "execute_result"
    }
   ],
   "source": [
    "train_loader.dataset.images.shape"
   ]
  },
  {
   "cell_type": "code",
   "execution_count": 100,
   "metadata": {
    "collapsed": true
   },
   "outputs": [],
   "source": [
    "data_loaders = {\"train\": train_loader, \"val\": valid_loader}\n",
    "data_lengths = {\"train\": train_loader.dataset.data.shape[0], \"val\": train_loader.dataset.data.shape[0]}"
   ]
  },
  {
   "cell_type": "markdown",
   "metadata": {},
   "source": [
    "<img src=\"mnist_fashion/CNN-example-block-diagram.jpg\">"
   ]
  },
  {
   "cell_type": "markdown",
   "metadata": {},
   "source": [
    "<http://adventuresinmachinelearning.com/convolutional-neural-networks-tutorial-in-pytorch/>"
   ]
  },
  {
   "cell_type": "code",
   "execution_count": 113,
   "metadata": {},
   "outputs": [],
   "source": [
    "class CNN(nn.Module):\n",
    "    \n",
    "    def __init__(self):\n",
    "        super(CNN,self).__init__()\n",
    "        # define all the components that will be used in the NN (these can be reused)\n",
    "        self.layer1 = nn.Sequential(\n",
    "                    nn.Conv2d(1,32,kernel_size=5, stride=1, padding=2),\n",
    "                    nn.ReLU(),\n",
    "                    nn.MaxPool2d(kernel_size=2, stride=2))\n",
    "        self.layer2 = nn.Sequential(\n",
    "                    nn.Conv2d(32,64,kernel_size=5, stride=1, padding=2),\n",
    "                    nn.ReLU(),\n",
    "                    nn.MaxPool2d(kernel_size=2, stride=2))\n",
    "        self.dropout = nn.Dropout(0.2)\n",
    "        self.fc1 = nn.Linear(7*7*64,1000)\n",
    "        self.fc2 = nn.Linear(1000,10)\n",
    "        self.relu = nn.ReLU()\n",
    "        \n",
    "    def forward(self,x):\n",
    "        out = self.layer1(x)\n",
    "        out = self.layer2(out)\n",
    "        out = out.reshape(out.size(0), -1)\n",
    "        out = self.dropout(out)\n",
    "        out = self.fc1(out)\n",
    "        out = self.relu(out)\n",
    "        out = self.fc2(out)\n",
    "        return out"
   ]
  },
  {
   "cell_type": "code",
   "execution_count": 114,
   "metadata": {},
   "outputs": [
    {
     "name": "stdout",
     "output_type": "stream",
     "text": [
      "CNN(\n",
      "  (layer1): Sequential(\n",
      "    (0): Conv2d(1, 32, kernel_size=(5, 5), stride=(1, 1), padding=(2, 2))\n",
      "    (1): ReLU()\n",
      "    (2): MaxPool2d(kernel_size=2, stride=2, padding=0, dilation=1, ceil_mode=False)\n",
      "  )\n",
      "  (layer2): Sequential(\n",
      "    (0): Conv2d(32, 64, kernel_size=(5, 5), stride=(1, 1), padding=(2, 2))\n",
      "    (1): ReLU()\n",
      "    (2): MaxPool2d(kernel_size=2, stride=2, padding=0, dilation=1, ceil_mode=False)\n",
      "  )\n",
      "  (dropout): Dropout(p=0.2)\n",
      "  (fc1): Linear(in_features=3136, out_features=1000, bias=True)\n",
      "  (fc2): Linear(in_features=1000, out_features=10, bias=True)\n",
      "  (relu): ReLU()\n",
      ")\n"
     ]
    }
   ],
   "source": [
    "cnn = CNN()\n",
    "print cnn"
   ]
  },
  {
   "cell_type": "code",
   "execution_count": 115,
   "metadata": {},
   "outputs": [
    {
     "data": {
      "text/plain": [
       "<bound method CNN.parameters of CNN(\n",
       "  (layer1): Sequential(\n",
       "    (0): Conv2d(1, 32, kernel_size=(5, 5), stride=(1, 1), padding=(2, 2))\n",
       "    (1): ReLU()\n",
       "    (2): MaxPool2d(kernel_size=2, stride=2, padding=0, dilation=1, ceil_mode=False)\n",
       "  )\n",
       "  (layer2): Sequential(\n",
       "    (0): Conv2d(32, 64, kernel_size=(5, 5), stride=(1, 1), padding=(2, 2))\n",
       "    (1): ReLU()\n",
       "    (2): MaxPool2d(kernel_size=2, stride=2, padding=0, dilation=1, ceil_mode=False)\n",
       "  )\n",
       "  (dropout): Dropout(p=0.2)\n",
       "  (fc1): Linear(in_features=3136, out_features=1000, bias=True)\n",
       "  (fc2): Linear(in_features=1000, out_features=10, bias=True)\n",
       "  (relu): ReLU()\n",
       ")>"
      ]
     },
     "execution_count": 115,
     "metadata": {},
     "output_type": "execute_result"
    }
   ],
   "source": [
    "cnn.parameters"
   ]
  },
  {
   "cell_type": "code",
   "execution_count": 116,
   "metadata": {
    "collapsed": true
   },
   "outputs": [],
   "source": [
    "criterion = nn.CrossEntropyLoss()\n",
    "optimizer = torch.optim.Adam(cnn.parameters(), lr=0.001)"
   ]
  },
  {
   "cell_type": "code",
   "execution_count": 117,
   "metadata": {},
   "outputs": [
    {
     "name": "stdout",
     "output_type": "stream",
     "text": [
      "Epoch 0/9\n",
      "----------\n",
      "Epoch [1/10], Step [100/750], Loss: 0.7816\n",
      "Epoch [1/10], Step [200/750], Loss: 0.2435\n",
      "Epoch [1/10], Step [300/750], Loss: 0.4464\n",
      "Epoch [1/10], Step [400/750], Loss: 0.2598\n",
      "Epoch [1/10], Step [500/750], Loss: 0.5166\n",
      "Epoch [1/10], Step [600/750], Loss: 0.3028\n",
      "Epoch [1/10], Step [700/750], Loss: 0.3659\n",
      "Epoch [1/10]train Loss: 0.4524\n",
      "Epoch [1/10]val Loss: 0.0863\n",
      "Epoch 1/9\n",
      "----------\n",
      "Epoch [2/10], Step [100/750], Loss: 0.3074\n",
      "Epoch [2/10], Step [200/750], Loss: 0.3698\n",
      "Epoch [2/10], Step [300/750], Loss: 0.4256\n",
      "Epoch [2/10], Step [400/750], Loss: 0.3418\n",
      "Epoch [2/10], Step [500/750], Loss: 0.2252\n",
      "Epoch [2/10], Step [600/750], Loss: 0.2617\n",
      "Epoch [2/10], Step [700/750], Loss: 0.1898\n",
      "Epoch [2/10]train Loss: 0.2820\n",
      "Epoch [2/10]val Loss: 0.0671\n",
      "Epoch 2/9\n",
      "----------\n",
      "Epoch [3/10], Step [100/750], Loss: 0.1929\n",
      "Epoch [3/10], Step [200/750], Loss: 0.1419\n",
      "Epoch [3/10], Step [300/750], Loss: 0.1900\n",
      "Epoch [3/10], Step [400/750], Loss: 0.2374\n",
      "Epoch [3/10], Step [500/750], Loss: 0.3358\n",
      "Epoch [3/10], Step [600/750], Loss: 0.2800\n",
      "Epoch [3/10], Step [700/750], Loss: 0.3045\n",
      "Epoch [3/10]train Loss: 0.2398\n",
      "Epoch [3/10]val Loss: 0.0642\n",
      "Epoch 3/9\n",
      "----------\n",
      "Epoch [4/10], Step [100/750], Loss: 0.1777\n",
      "Epoch [4/10], Step [200/750], Loss: 0.2129\n",
      "Epoch [4/10], Step [300/750], Loss: 0.1947\n",
      "Epoch [4/10], Step [400/750], Loss: 0.1875\n",
      "Epoch [4/10], Step [500/750], Loss: 0.1769\n",
      "Epoch [4/10], Step [600/750], Loss: 0.1564\n",
      "Epoch [4/10], Step [700/750], Loss: 0.2460\n",
      "Epoch [4/10]train Loss: 0.2080\n",
      "Epoch [4/10]val Loss: 0.0602\n",
      "Epoch 4/9\n",
      "----------\n",
      "Epoch [5/10], Step [100/750], Loss: 0.0948\n",
      "Epoch [5/10], Step [200/750], Loss: 0.3521\n",
      "Epoch [5/10], Step [300/750], Loss: 0.2286\n",
      "Epoch [5/10], Step [400/750], Loss: 0.1843\n",
      "Epoch [5/10], Step [500/750], Loss: 0.1397\n",
      "Epoch [5/10], Step [600/750], Loss: 0.2259\n",
      "Epoch [5/10], Step [700/750], Loss: 0.0953\n",
      "Epoch [5/10]train Loss: 0.1849\n",
      "Epoch [5/10]val Loss: 0.0602\n",
      "Epoch 5/9\n",
      "----------\n",
      "Epoch [6/10], Step [100/750], Loss: 0.2113\n",
      "Epoch [6/10], Step [200/750], Loss: 0.1314\n",
      "Epoch [6/10], Step [300/750], Loss: 0.0511\n",
      "Epoch [6/10], Step [400/750], Loss: 0.1537\n",
      "Epoch [6/10], Step [500/750], Loss: 0.2416\n",
      "Epoch [6/10], Step [600/750], Loss: 0.1606\n",
      "Epoch [6/10], Step [700/750], Loss: 0.2009\n",
      "Epoch [6/10]train Loss: 0.1609\n",
      "Epoch [6/10]val Loss: 0.0598\n",
      "Epoch 6/9\n",
      "----------\n",
      "Epoch [7/10], Step [100/750], Loss: 0.1203\n",
      "Epoch [7/10], Step [200/750], Loss: 0.2345\n",
      "Epoch [7/10], Step [300/750], Loss: 0.1339\n",
      "Epoch [7/10], Step [400/750], Loss: 0.2126\n",
      "Epoch [7/10], Step [500/750], Loss: 0.0917\n",
      "Epoch [7/10], Step [600/750], Loss: 0.1020\n",
      "Epoch [7/10], Step [700/750], Loss: 0.0617\n",
      "Epoch [7/10]train Loss: 0.1401\n",
      "Epoch [7/10]val Loss: 0.0565\n",
      "Epoch 7/9\n",
      "----------\n",
      "Epoch [8/10], Step [100/750], Loss: 0.0637\n",
      "Epoch [8/10], Step [200/750], Loss: 0.0804\n",
      "Epoch [8/10], Step [300/750], Loss: 0.0839\n",
      "Epoch [8/10], Step [400/750], Loss: 0.2099\n",
      "Epoch [8/10], Step [500/750], Loss: 0.1519\n",
      "Epoch [8/10], Step [600/750], Loss: 0.1907\n",
      "Epoch [8/10], Step [700/750], Loss: 0.0283\n",
      "Epoch [8/10]train Loss: 0.1212\n",
      "Epoch [8/10]val Loss: 0.0581\n",
      "Epoch 8/9\n",
      "----------\n",
      "Epoch [9/10], Step [100/750], Loss: 0.0877\n",
      "Epoch [9/10], Step [200/750], Loss: 0.2406\n",
      "Epoch [9/10], Step [300/750], Loss: 0.0480\n",
      "Epoch [9/10], Step [400/750], Loss: 0.1458\n",
      "Epoch [9/10], Step [500/750], Loss: 0.0429\n",
      "Epoch [9/10], Step [600/750], Loss: 0.1855\n",
      "Epoch [9/10], Step [700/750], Loss: 0.1112\n",
      "Epoch [9/10]train Loss: 0.1021\n",
      "Epoch [9/10]val Loss: 0.0649\n",
      "Epoch 9/9\n",
      "----------\n",
      "Epoch [10/10], Step [100/750], Loss: 0.0965\n",
      "Epoch [10/10], Step [200/750], Loss: 0.0787\n",
      "Epoch [10/10], Step [300/750], Loss: 0.0409\n",
      "Epoch [10/10], Step [400/750], Loss: 0.1138\n",
      "Epoch [10/10], Step [500/750], Loss: 0.0537\n",
      "Epoch [10/10], Step [600/750], Loss: 0.1401\n",
      "Epoch [10/10], Step [700/750], Loss: 0.0515\n",
      "Epoch [10/10]train Loss: 0.0887\n",
      "Epoch [10/10]val Loss: 0.0659\n"
     ]
    }
   ],
   "source": [
    "num_epoch =10\n",
    "train_losses = []\n",
    "valid_losses = []\n",
    "for epoch in range( num_epoch):\n",
    "    \n",
    "    print('Epoch {}/{}'.format(epoch, num_epoch- 1))\n",
    "    print('-' * 10)\n",
    "    \n",
    "    # Each epoch has a training and validation phase\n",
    "    for phase in ['train', 'val']:\n",
    "        if phase == 'train':\n",
    "            cnn.train() # Set model to training mode\n",
    "        else:\n",
    "            cnn.eval() # Set model to evaluate mode\n",
    "        \n",
    "        running_loss = 0.0\n",
    "        # Iterate over data.\n",
    "        for i, (images,labels) in enumerate(data_loaders[phase]):\n",
    "            # torch can only train on Variable, so convert them to Variable\n",
    "\n",
    "            images = Variable(images.float())\n",
    "            labels = Variable(labels)\n",
    "\n",
    "            outputs = cnn(images) # Forward pass: compute the output class given a image\n",
    "            loss = criterion(outputs,labels) # Compute the loss: difference between the output class and the pre-given label\n",
    "            \n",
    "            optimizer.zero_grad() # clear gradients for next train\n",
    "            if phase == 'train':\n",
    "                loss.backward() # backpropagation, compute gradients\n",
    "                optimizer.step() # apply gradients  and update the weights of hidden nodes\n",
    "                \n",
    "            running_loss += loss.data * images.size(0)\n",
    "            \n",
    "            if phase == 'train':\n",
    "                if (i+1) % 100 == 0 :\n",
    "                    print('Epoch [%d/%d], Step [%d/%d], Loss: %.4f' %(epoch+1, num_epoch, i+1, data_lengths[phase]//64, loss.data))\n",
    "                    \n",
    "        epoch_loss = running_loss / data_lengths[phase]\n",
    "        if phase =='train':\n",
    "            train_losses.append(epoch_loss)\n",
    "        if phase =='val':\n",
    "            valid_losses.append(epoch_loss)\n",
    "        print('Epoch [{}/{}]{} Loss: {:.4f}'.format(epoch+1, num_epoch,phase, epoch_loss))    "
   ]
  },
  {
   "cell_type": "code",
   "execution_count": 118,
   "metadata": {},
   "outputs": [
    {
     "name": "stdout",
     "output_type": "stream",
     "text": [
      "Test Accuracy of the model on the 10000 test images: 92.0000 %\n"
     ]
    }
   ],
   "source": [
    "cnn.eval()\n",
    "correct = 0\n",
    "total = 0\n",
    "for images, labels in test_loader:\n",
    "    images = Variable(images.float())\n",
    "    outputs = cnn(images)\n",
    "    _, predicted = torch.max(outputs.data, 1)\n",
    "    total += labels.size(0)\n",
    "    correct += (predicted == labels).sum()\n",
    "\n",
    "print('Test Accuracy of the model on the 10000 test images: %.4f %%' % (100 * correct / total))"
   ]
  },
  {
   "cell_type": "code",
   "execution_count": 119,
   "metadata": {},
   "outputs": [
    {
     "data": {
      "image/png": "[encoded data removed]",
      "text/plain": [
       "<matplotlib.figure.Figure at 0x7f8902b70090>"
      ]
     },
     "metadata": {},
     "output_type": "display_data"
    }
   ],
   "source": [
    "#losses_in_epochs = losses[:]\n",
    "#plt.xkcd()\n",
    "plt.xlabel('Epoch #')\n",
    "plt.ylabel('Loss')\n",
    "plt.title('model loss')\n",
    "plt.plot(train_losses)\n",
    "plt.plot(valid_losses)\n",
    "plt.legend(['train', 'test'], loc='upper right')\n",
    "plt.show()"
   ]
  },
  {
   "cell_type": "code",
   "execution_count": null,
   "metadata": {
    "collapsed": true
   },
   "outputs": [],
   "source": []
  }
 ],
 "metadata": {
  "kernelspec": {
   "display_name": "Python 2",
   "language": "python",
   "name": "python2"
  },
  "language_info": {
   "codemirror_mode": {
    "name": "ipython",
    "version": 2
   },
   "file_extension": ".py",
   "mimetype": "text/x-python",
   "name": "python",
   "nbconvert_exporter": "python",
   "pygments_lexer": "ipython2",
   "version": "2.7.14"
  }
 },
 "nbformat": 4,
 "nbformat_minor": 2
}
